{
 "cells": [
  {
   "cell_type": "markdown",
   "id": "afd2ab65",
   "metadata": {},
   "source": [
    "## Asignación 1\n",
    "\n",
    "- ***Brayan Santiago Amorocho Lizcano***\n",
    "\n",
    "#### Ejercicio 6 / Sección 1.2.7\n",
    "\n",
    "Dados los vectores:\n",
    "$ a = ê_{1} + 2ê_{2} + 3ê_{3} , b = 4ê_{1} + 5ê_{2} + 6ê_{3} , c = 3ê_{1} + 2ê_{2} + ê_{3} , d = 6ê_{1} + 5ê_{2} + 4ê_{3}.$\n"
   ]
  },
  {
   "cell_type": "markdown",
   "id": "c4395a50",
   "metadata": {},
   "source": [
    "a). Encuentre:\n",
    " $a + b + c + d ,  ~a + b − c − d , ~a − b + c − d , ~−a + b − c + d$"
   ]
  },
  {
   "cell_type": "code",
   "execution_count": 1,
   "id": "71ad305e",
   "metadata": {},
   "outputs": [],
   "source": [
    "import numpy as np"
   ]
  },
  {
   "cell_type": "code",
   "execution_count": 2,
   "id": "ba9615fb",
   "metadata": {},
   "outputs": [
    {
     "name": "stdout",
     "output_type": "stream",
     "text": [
      " a + b + c + d =  [14 14 14]\n",
      " a + b - c - d =  [-4  0  4]\n",
      " a - b + c - d =  [-6 -6 -6]\n",
      "-a + b - c + d =  [6 6 6]\n"
     ]
    }
   ],
   "source": [
    "a = np.array([1,2,3])\n",
    "b = np.array([4,5,6])\n",
    "c = np.array([3,2,1])\n",
    "d = np.array([6,5,4])\n",
    "\n",
    "\n",
    "print(\" a + b + c + d = \", a+b+c+d )\n",
    "print(\" a + b - c - d = \", a+b-c-d )\n",
    "print(\" a - b + c - d = \", a-b+c-d )\n",
    "print(\"-a + b - c + d = \",-a+b-c+d )"
   ]
  },
  {
   "cell_type": "markdown",
   "id": "4cf2c09a",
   "metadata": {},
   "source": [
    "b). El ángulo entre los vectores a, b, c, d y los vectores base $ê_{1}, ê_{2}, ê_{3}$\n",
    "\n",
    "d). El ángulo entre a y b y entre c y d.\n"
   ]
  },
  {
   "cell_type": "code",
   "execution_count": 3,
   "id": "1a2efb07",
   "metadata": {},
   "outputs": [
    {
     "name": "stdout",
     "output_type": "stream",
     "text": [
      "El ángulo entre el vector [1 2 3] y el vector [4 5 6] es de: 0.226 rad.\n",
      "El ángulo entre el vector [1 2 3] y el vector [3 2 1] es de: 0.775 rad.\n",
      "El ángulo entre el vector [1 2 3] y el vector [6 5 4] es de: 0.549 rad.\n",
      "El ángulo entre el vector [4 5 6] y el vector [3 2 1] es de: 0.549 rad.\n",
      "El ángulo entre el vector [4 5 6] y el vector [6 5 4] es de: 0.324 rad.\n",
      "El ángulo entre el vector [3 2 1] y el vector [6 5 4] es de: 0.226 rad.\n"
     ]
    }
   ],
   "source": [
    "def angle(vec1,vec2):\n",
    "    angle = np.arccos( np.dot(vec1,vec2)/ (np.linalg.norm(vec1)*np.linalg.norm(vec2)) )\n",
    "    return angle\n",
    "v1 = [a, a, a, b, b, c]\n",
    "v2 = [b, c, d, c, d, d]\n",
    "\n",
    "for i in range(0,len(v1)):\n",
    "    print(\"El ángulo entre el vector {} y el vector {} es de: {} rad.\".format(str(v1[i]),str(v2[i]), round(angle(v1[i],v2[i]), 3)))"
   ]
  },
  {
   "cell_type": "code",
   "execution_count": 4,
   "id": "8ad454dd",
   "metadata": {},
   "outputs": [
    {
     "name": "stdout",
     "output_type": "stream",
     "text": [
      "El ángulo entre el vector [1 2 3] y el vector base e1 es de: 1.3 rad.\n",
      "El ángulo entre el vector [1 2 3] y el vector base e2 es de: 1.007 rad.\n",
      "El ángulo entre el vector [1 2 3] y el vector base e3 es de: 0.641 rad.\n",
      "El ángulo entre el vector [4 5 6] y el vector base e1 es de: 1.097 rad.\n",
      "El ángulo entre el vector [4 5 6] y el vector base e2 es de: 0.965 rad.\n",
      "El ángulo entre el vector [4 5 6] y el vector base e3 es de: 0.818 rad.\n",
      "El ángulo entre el vector [3 2 1] y el vector base e1 es de: 0.641 rad.\n",
      "El ángulo entre el vector [3 2 1] y el vector base e2 es de: 1.007 rad.\n",
      "El ángulo entre el vector [3 2 1] y el vector base e3 es de: 1.3 rad.\n",
      "El ángulo entre el vector [6 5 4] y el vector base e1 es de: 0.818 rad.\n",
      "El ángulo entre el vector [6 5 4] y el vector base e2 es de: 0.965 rad.\n",
      "El ángulo entre el vector [6 5 4] y el vector base e3 es de: 1.097 rad.\n"
     ]
    }
   ],
   "source": [
    "e1 = np.array([1,0,0])\n",
    "e2 = np.array([0,1,0])\n",
    "e3 = np.array([0,0,1])\n",
    "\n",
    "base = [e1,e2,e3]\n",
    "base_name = [\"e1\",\"e2\",\"e3\"]\n",
    "vect = [a,b,c,d]\n",
    "\n",
    "for i in vect:\n",
    "    for j in range(0,len(base)):\n",
    "        print(\"El ángulo entre el vector\",\n",
    "              \"{} y el vector base {} es de: {} rad.\".format(str(i),base_name[j], round(angle(i,base[j]),3)))"
   ]
  },
  {
   "cell_type": "markdown",
   "id": "c4762038",
   "metadata": {},
   "source": [
    "c). La magnitud de los vectores $a, b, c, d.$"
   ]
  },
  {
   "cell_type": "code",
   "execution_count": 5,
   "id": "9a04e266",
   "metadata": {},
   "outputs": [
    {
     "name": "stdout",
     "output_type": "stream",
     "text": [
      "La magnitud del vector [1 2 3] es: 3.742\n",
      "La magnitud del vector [4 5 6] es: 8.775\n",
      "La magnitud del vector [3 2 1] es: 3.742\n",
      "La magnitud del vector [6 5 4] es: 8.775\n"
     ]
    }
   ],
   "source": [
    "def magnitud(v):\n",
    "    m = np.sqrt(np.dot(v,v))\n",
    "    return m\n",
    "\n",
    "for i in vect:\n",
    "    print(\"La magnitud del vector {} es: {}\".format(i, round(magnitud(i),3)))"
   ]
  },
  {
   "cell_type": "markdown",
   "id": "711637c3",
   "metadata": {},
   "source": [
    "e). La proyección de a sobre b.\n"
   ]
  },
  {
   "cell_type": "code",
   "execution_count": 6,
   "id": "e8ffecfb",
   "metadata": {},
   "outputs": [
    {
     "name": "stdout",
     "output_type": "stream",
     "text": [
      "La proyección del vector [1 2 3] sobre el vector [4 5 6] es: [1.662, 2.078, 2.494]\n"
     ]
    }
   ],
   "source": [
    "proy = np.dot(a,b)*b/((np.linalg.norm(b))**2)\n",
    "proy = [round(x,3) for x in proy]\n",
    "print(\"La proyección del vector {} sobre el vector {} es: {}\".format(a,b,proy))"
   ]
  },
  {
   "cell_type": "markdown",
   "id": "1af5c3f2",
   "metadata": {},
   "source": [
    "f). ¿Son los vectores a, b, c, d coplanares?\n",
    "\n",
    "Para que dos vectores sean coplanares deben ser linealmente dependientes. Como se trata de 4 vectores en $R^3$, obligatoriamente al menos uno de ellos podrá ser escrito como combinación lineal de los otros. Por lo tanto, los vectores $a,b,c,d$ **sí** son coplanares."
   ]
  },
  {
   "cell_type": "markdown",
   "id": "1ec2517e",
   "metadata": {},
   "source": [
    "g). Encuentre (a + b) · (c + d).\n"
   ]
  },
  {
   "cell_type": "code",
   "execution_count": 7,
   "id": "fb80e3a4",
   "metadata": {},
   "outputs": [
    {
     "name": "stdout",
     "output_type": "stream",
     "text": [
      "(a + b) · (c + d) = 139\n"
     ]
    }
   ],
   "source": [
    "print(\"(a + b) · (c + d) = {}\".format(np.dot((a+b),(c+d))))"
   ]
  },
  {
   "cell_type": "markdown",
   "id": "767ab6e4",
   "metadata": {},
   "source": [
    "h). Los productos a × b, b × c, c × d y los ángulos que estos forman con d.\n"
   ]
  },
  {
   "cell_type": "code",
   "execution_count": 8,
   "id": "de90e648",
   "metadata": {
    "scrolled": true
   },
   "outputs": [
    {
     "name": "stdout",
     "output_type": "stream",
     "text": [
      "El producto cruz [1 2 3] x [4 5 6] = [-3  6 -3] forma un ángulo de 1.571 rad. con d.\n",
      "El producto cruz [4 5 6] x [3 2 1] = [-7 14 -7] forma un ángulo de 1.571 rad. con d.\n",
      "El producto cruz [3 2 1] x [6 5 4] = [ 3 -6  3] forma un ángulo de 1.571 rad. con d.\n"
     ]
    }
   ],
   "source": [
    "print(\"El producto cruz {} x {} = {}\".format(a,b,np.cross(a,b)), \n",
    "      \"forma un ángulo de {} rad. con d.\".format(round(angle(np.cross(a,b),d),3)))\n",
    "\n",
    "print(\"El producto cruz {} x {} = {}\".format(b,c,np.cross(b,c)), \n",
    "      \"forma un ángulo de {} rad. con d.\".format(round(angle(np.cross(b,c),d),3)))\n",
    "\n",
    "print(\"El producto cruz {} x {} = {}\".format(c,d,np.cross(c,d)), \n",
    "      \"forma un ángulo de {} rad. con d.\".format(round(angle(np.cross(c,d),d),3)))"
   ]
  },
  {
   "cell_type": "markdown",
   "id": "c26fd37b",
   "metadata": {},
   "source": [
    "i). c· (a x b).\n",
    "\n"
   ]
  },
  {
   "cell_type": "code",
   "execution_count": 9,
   "id": "766dc784",
   "metadata": {},
   "outputs": [
    {
     "name": "stdout",
     "output_type": "stream",
     "text": [
      "[-3  6 -3]\n",
      "c·(a x b) = [3 2 1] · ([1 2 3] x [4 5 6]) = 0\n"
     ]
    }
   ],
   "source": [
    "cruz = np.cross(a,b)\n",
    "print(cruz)\n",
    "mix = np.dot(c,cruz)\n",
    "print(\"c·(a x b) = {} · ({} x {}) = {}\".format(c,a,b,mix))"
   ]
  },
  {
   "cell_type": "code",
   "execution_count": null,
   "id": "6a344f49",
   "metadata": {},
   "outputs": [],
   "source": []
  }
 ],
 "metadata": {
  "kernelspec": {
   "display_name": "Python 3 (ipykernel)",
   "language": "python",
   "name": "python3"
  },
  "language_info": {
   "codemirror_mode": {
    "name": "ipython",
    "version": 3
   },
   "file_extension": ".py",
   "mimetype": "text/x-python",
   "name": "python",
   "nbconvert_exporter": "python",
   "pygments_lexer": "ipython3",
   "version": "3.10.5"
  }
 },
 "nbformat": 4,
 "nbformat_minor": 5
}
