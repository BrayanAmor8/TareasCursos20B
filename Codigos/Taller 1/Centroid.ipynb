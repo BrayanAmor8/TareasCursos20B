{
 "cells": [
  {
   "cell_type": "markdown",
   "id": "d63f7d13",
   "metadata": {},
   "source": [
    "## Asignación 1\n",
    "\n",
    "- ***Brayan Santiago Amorocho Lizcano***\n",
    "\n",
    "#### Ejercicio 3 / Sección 1.1.6\n",
    "\n",
    "Los vertices de un triángulo ABC tienen como vectores posición a, b y c, respectivamente y relativos a\n",
    "un origen común O. Demuestre que el vector posición g del centróide G del triángulo viene dado por:\n",
    "$g = \\frac{1}{3}(a + b + c).$\n"
   ]
  },
  {
   "cell_type": "code",
   "execution_count": 1,
   "id": "febd108c",
   "metadata": {},
   "outputs": [],
   "source": [
    "#Importar bibliotecas\n",
    "import numpy as np\n",
    "import matplotlib.pyplot as plt"
   ]
  },
  {
   "cell_type": "code",
   "execution_count": 3,
   "id": "2a6d001d",
   "metadata": {},
   "outputs": [
    {
     "name": "stdout",
     "output_type": "stream",
     "text": [
      "Escriba la dimensión en la que desea trabajar: 3\n",
      "Escriba la componente 1 del vector 1: 1\n",
      "Escriba la componente 2 del vector 1: 2\n",
      "Escriba la componente 3 del vector 1: 3\n",
      "El vector es: (1.0,2.0,3.0)\n",
      "Escriba la componente 1 del vector 2: 4\n",
      "Escriba la componente 2 del vector 2: 5\n",
      "Escriba la componente 3 del vector 2: 6\n",
      "El vector es: (4.0,5.0,6.0)\n",
      "Escriba la componente 1 del vector 3: 3\n",
      "Escriba la componente 2 del vector 3: 2\n",
      "Escriba la componente 3 del vector 3: 1\n",
      "El vector es: (3.0,2.0,1.0)\n",
      "El \u001b[1mcentroide del triángulo formado está en: (2.6667,3.0,3.3333)\u001b[0m\n"
     ]
    }
   ],
   "source": [
    "dimen = int(input(\"Escriba la dimensión en la que desea trabajar: \"))\n",
    "\n",
    "A = np.array([])\n",
    "B = np.array([])\n",
    "C = np.array([])\n",
    "vect = [A,B,C]\n",
    "\n",
    "for i in range(0,3):\n",
    "    for j in range(0,dimen):\n",
    "        data = float(input(\"Escriba la componente {} del vector {}: \".format(j+1,i+1)))\n",
    "        vect[i] = np.append(vect[i],data)\n",
    "    print(\"El vector es: ({},{},{})\".format(vect[i][0],vect[i][1],vect[i][2]) )\n",
    "\n",
    "centr = 1/3 * (vect[0] + vect[1] + vect[2])\n",
    "centr = [round(x,4) for x in centr]\n",
    "\n",
    "\n",
    "print(\"El\", \"\\033[1m\" + \"centroide del triángulo formado está en: ({},{},{})\".format(centr[0],centr[1],centr[2]) + \"\\033[0m\")\n"
   ]
  },
  {
   "cell_type": "code",
   "execution_count": null,
   "id": "a49b196a",
   "metadata": {},
   "outputs": [],
   "source": []
  },
  {
   "cell_type": "code",
   "execution_count": null,
   "id": "d64ba347",
   "metadata": {},
   "outputs": [],
   "source": []
  }
 ],
 "metadata": {
  "kernelspec": {
   "display_name": "Python 3 (ipykernel)",
   "language": "python",
   "name": "python3"
  },
  "language_info": {
   "codemirror_mode": {
    "name": "ipython",
    "version": 3
   },
   "file_extension": ".py",
   "mimetype": "text/x-python",
   "name": "python",
   "nbconvert_exporter": "python",
   "pygments_lexer": "ipython3",
   "version": "3.10.5"
  }
 },
 "nbformat": 4,
 "nbformat_minor": 5
}
